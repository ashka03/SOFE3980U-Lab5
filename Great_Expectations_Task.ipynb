{
  "cells": [
    {
      "cell_type": "markdown",
      "metadata": {
        "id": "S0KvgYslI64f"
      },
      "source": [
        "# Great Expectations Task"
      ]
    },
    {
      "cell_type": "markdown",
      "metadata": {
        "id": "9R147FfXJG4F"
      },
      "source": [
        "## 1. Install Great Expectations Library\n"
      ]
    },
    {
      "cell_type": "code",
      "execution_count": 1,
      "metadata": {
        "collapsed": true,
        "id": "TGqDcWNh3Y_-"
      },
      "outputs": [
        {
          "name": "stdout",
          "output_type": "stream",
          "text": [
            "Collecting great_expectations==0.17.14\n",
            "  Using cached great_expectations-0.17.14-py3-none-any.whl.metadata (8.6 kB)\n",
            "Requirement already satisfied: altair<5.0.0,>=4.2.1 in c:\\users\\patel\\appdata\\local\\programs\\python\\python312\\lib\\site-packages (from great_expectations==0.17.14) (4.2.2)\n",
            "Requirement already satisfied: Click!=8.1.4,>=7.1.2 in c:\\users\\patel\\appdata\\local\\programs\\python\\python312\\lib\\site-packages (from great_expectations==0.17.14) (8.1.7)\n",
            "Requirement already satisfied: colorama>=0.4.3 in c:\\users\\patel\\appdata\\local\\programs\\python\\python312\\lib\\site-packages (from great_expectations==0.17.14) (0.4.6)\n",
            "Requirement already satisfied: cryptography>=3.2 in c:\\users\\patel\\appdata\\local\\programs\\python\\python312\\lib\\site-packages (from great_expectations==0.17.14) (43.0.3)\n",
            "Requirement already satisfied: Ipython>=7.16.3 in c:\\users\\patel\\appdata\\roaming\\python\\python312\\site-packages (from great_expectations==0.17.14) (9.0.2)\n",
            "Requirement already satisfied: ipywidgets>=7.5.1 in c:\\users\\patel\\appdata\\local\\programs\\python\\python312\\lib\\site-packages (from great_expectations==0.17.14) (8.1.5)\n",
            "Requirement already satisfied: jinja2>=2.10 in c:\\users\\patel\\appdata\\local\\programs\\python\\python312\\lib\\site-packages (from great_expectations==0.17.14) (3.1.4)\n",
            "Requirement already satisfied: jsonpatch>=1.22 in c:\\users\\patel\\appdata\\local\\programs\\python\\python312\\lib\\site-packages (from great_expectations==0.17.14) (1.33)\n",
            "Requirement already satisfied: jsonschema>=2.5.1 in c:\\users\\patel\\appdata\\local\\programs\\python\\python312\\lib\\site-packages (from great_expectations==0.17.14) (4.23.0)\n",
            "Requirement already satisfied: makefun<2,>=1.7.0 in c:\\users\\patel\\appdata\\local\\programs\\python\\python312\\lib\\site-packages (from great_expectations==0.17.14) (1.15.6)\n",
            "Requirement already satisfied: marshmallow<4.0.0,>=3.7.1 in c:\\users\\patel\\appdata\\local\\programs\\python\\python312\\lib\\site-packages (from great_expectations==0.17.14) (3.26.1)\n",
            "Requirement already satisfied: mistune>=0.8.4 in c:\\users\\patel\\appdata\\local\\programs\\python\\python312\\lib\\site-packages (from great_expectations==0.17.14) (3.1.3)\n",
            "Requirement already satisfied: nbformat>=5.0 in c:\\users\\patel\\appdata\\local\\programs\\python\\python312\\lib\\site-packages (from great_expectations==0.17.14) (5.10.4)\n",
            "Requirement already satisfied: notebook>=6.4.10 in c:\\users\\patel\\appdata\\local\\programs\\python\\python312\\lib\\site-packages (from great_expectations==0.17.14) (7.3.3)\n",
            "Requirement already satisfied: packaging in c:\\users\\patel\\appdata\\local\\programs\\python\\python312\\lib\\site-packages (from great_expectations==0.17.14) (24.2)\n",
            "Requirement already satisfied: pydantic<2.0,>=1.9.2 in c:\\users\\patel\\appdata\\local\\programs\\python\\python312\\lib\\site-packages (from great_expectations==0.17.14) (1.10.21)\n",
            "Requirement already satisfied: pyparsing>=2.4 in c:\\users\\patel\\appdata\\local\\programs\\python\\python312\\lib\\site-packages (from great_expectations==0.17.14) (3.2.1)\n",
            "Requirement already satisfied: python-dateutil>=2.8.1 in c:\\users\\patel\\appdata\\local\\programs\\python\\python312\\lib\\site-packages (from great_expectations==0.17.14) (2.9.0.post0)\n",
            "Requirement already satisfied: pytz>=2021.3 in c:\\users\\patel\\appdata\\local\\programs\\python\\python312\\lib\\site-packages (from great_expectations==0.17.14) (2024.2)\n",
            "Requirement already satisfied: requests>=2.20 in c:\\users\\patel\\appdata\\local\\programs\\python\\python312\\lib\\site-packages (from great_expectations==0.17.14) (2.32.3)\n",
            "Requirement already satisfied: ruamel.yaml<0.17.18,>=0.16 in c:\\users\\patel\\appdata\\local\\programs\\python\\python312\\lib\\site-packages (from great_expectations==0.17.14) (0.17.17)\n",
            "Requirement already satisfied: scipy>=1.6.0 in c:\\users\\patel\\appdata\\local\\programs\\python\\python312\\lib\\site-packages (from great_expectations==0.17.14) (1.15.2)\n",
            "Requirement already satisfied: tqdm>=4.59.0 in c:\\users\\patel\\appdata\\local\\programs\\python\\python312\\lib\\site-packages (from great_expectations==0.17.14) (4.67.1)\n",
            "Requirement already satisfied: typing-extensions>=3.10.0.0 in c:\\users\\patel\\appdata\\local\\programs\\python\\python312\\lib\\site-packages (from great_expectations==0.17.14) (4.12.2)\n",
            "Requirement already satisfied: tzlocal>=1.2 in c:\\users\\patel\\appdata\\local\\programs\\python\\python312\\lib\\site-packages (from great_expectations==0.17.14) (5.3.1)\n",
            "Requirement already satisfied: urllib3>=1.26 in c:\\users\\patel\\appdata\\local\\programs\\python\\python312\\lib\\site-packages (from great_expectations==0.17.14) (2.2.3)\n",
            "Requirement already satisfied: numpy>=1.22.4 in c:\\users\\patel\\appdata\\local\\programs\\python\\python312\\lib\\site-packages (from great_expectations==0.17.14) (1.26.4)\n",
            "Requirement already satisfied: pandas>=1.3.0 in c:\\users\\patel\\appdata\\local\\programs\\python\\python312\\lib\\site-packages (from great_expectations==0.17.14) (2.1.4)\n",
            "Requirement already satisfied: entrypoints in c:\\users\\patel\\appdata\\local\\programs\\python\\python312\\lib\\site-packages (from altair<5.0.0,>=4.2.1->great_expectations==0.17.14) (0.4)\n",
            "Requirement already satisfied: toolz in c:\\users\\patel\\appdata\\local\\programs\\python\\python312\\lib\\site-packages (from altair<5.0.0,>=4.2.1->great_expectations==0.17.14) (1.0.0)\n",
            "Requirement already satisfied: cffi>=1.12 in c:\\users\\patel\\appdata\\local\\programs\\python\\python312\\lib\\site-packages (from cryptography>=3.2->great_expectations==0.17.14) (1.17.1)\n",
            "Requirement already satisfied: decorator in c:\\users\\patel\\appdata\\roaming\\python\\python312\\site-packages (from Ipython>=7.16.3->great_expectations==0.17.14) (5.2.1)\n",
            "Requirement already satisfied: ipython-pygments-lexers in c:\\users\\patel\\appdata\\roaming\\python\\python312\\site-packages (from Ipython>=7.16.3->great_expectations==0.17.14) (1.1.1)\n",
            "Requirement already satisfied: jedi>=0.16 in c:\\users\\patel\\appdata\\roaming\\python\\python312\\site-packages (from Ipython>=7.16.3->great_expectations==0.17.14) (0.19.2)\n",
            "Requirement already satisfied: matplotlib-inline in c:\\users\\patel\\appdata\\roaming\\python\\python312\\site-packages (from Ipython>=7.16.3->great_expectations==0.17.14) (0.1.7)\n",
            "Requirement already satisfied: prompt_toolkit<3.1.0,>=3.0.41 in c:\\users\\patel\\appdata\\roaming\\python\\python312\\site-packages (from Ipython>=7.16.3->great_expectations==0.17.14) (3.0.50)\n",
            "Requirement already satisfied: pygments>=2.4.0 in c:\\users\\patel\\appdata\\roaming\\python\\python312\\site-packages (from Ipython>=7.16.3->great_expectations==0.17.14) (2.19.1)\n",
            "Requirement already satisfied: stack_data in c:\\users\\patel\\appdata\\roaming\\python\\python312\\site-packages (from Ipython>=7.16.3->great_expectations==0.17.14) (0.6.3)\n",
            "Requirement already satisfied: traitlets>=5.13.0 in c:\\users\\patel\\appdata\\roaming\\python\\python312\\site-packages (from Ipython>=7.16.3->great_expectations==0.17.14) (5.14.3)\n",
            "Requirement already satisfied: comm>=0.1.3 in c:\\users\\patel\\appdata\\roaming\\python\\python312\\site-packages (from ipywidgets>=7.5.1->great_expectations==0.17.14) (0.2.2)\n",
            "Requirement already satisfied: widgetsnbextension~=4.0.12 in c:\\users\\patel\\appdata\\local\\programs\\python\\python312\\lib\\site-packages (from ipywidgets>=7.5.1->great_expectations==0.17.14) (4.0.13)\n",
            "Requirement already satisfied: jupyterlab-widgets~=3.0.12 in c:\\users\\patel\\appdata\\local\\programs\\python\\python312\\lib\\site-packages (from ipywidgets>=7.5.1->great_expectations==0.17.14) (3.0.13)\n",
            "Requirement already satisfied: MarkupSafe>=2.0 in c:\\users\\patel\\appdata\\local\\programs\\python\\python312\\lib\\site-packages (from jinja2>=2.10->great_expectations==0.17.14) (2.1.5)\n",
            "Requirement already satisfied: jsonpointer>=1.9 in c:\\users\\patel\\appdata\\local\\programs\\python\\python312\\lib\\site-packages (from jsonpatch>=1.22->great_expectations==0.17.14) (3.0.0)\n",
            "Requirement already satisfied: attrs>=22.2.0 in c:\\users\\patel\\appdata\\local\\programs\\python\\python312\\lib\\site-packages (from jsonschema>=2.5.1->great_expectations==0.17.14) (25.3.0)\n",
            "Requirement already satisfied: jsonschema-specifications>=2023.03.6 in c:\\users\\patel\\appdata\\local\\programs\\python\\python312\\lib\\site-packages (from jsonschema>=2.5.1->great_expectations==0.17.14) (2024.10.1)\n",
            "Requirement already satisfied: referencing>=0.28.4 in c:\\users\\patel\\appdata\\local\\programs\\python\\python312\\lib\\site-packages (from jsonschema>=2.5.1->great_expectations==0.17.14) (0.36.2)\n",
            "Requirement already satisfied: rpds-py>=0.7.1 in c:\\users\\patel\\appdata\\local\\programs\\python\\python312\\lib\\site-packages (from jsonschema>=2.5.1->great_expectations==0.17.14) (0.23.1)\n",
            "Requirement already satisfied: fastjsonschema>=2.15 in c:\\users\\patel\\appdata\\local\\programs\\python\\python312\\lib\\site-packages (from nbformat>=5.0->great_expectations==0.17.14) (2.21.1)\n",
            "Requirement already satisfied: jupyter-core!=5.0.*,>=4.12 in c:\\users\\patel\\appdata\\roaming\\python\\python312\\site-packages (from nbformat>=5.0->great_expectations==0.17.14) (5.7.2)\n",
            "Requirement already satisfied: jupyter-server<3,>=2.4.0 in c:\\users\\patel\\appdata\\local\\programs\\python\\python312\\lib\\site-packages (from notebook>=6.4.10->great_expectations==0.17.14) (2.15.0)\n",
            "Requirement already satisfied: jupyterlab-server<3,>=2.27.1 in c:\\users\\patel\\appdata\\local\\programs\\python\\python312\\lib\\site-packages (from notebook>=6.4.10->great_expectations==0.17.14) (2.27.3)\n",
            "Requirement already satisfied: jupyterlab<4.4,>=4.3.6 in c:\\users\\patel\\appdata\\local\\programs\\python\\python312\\lib\\site-packages (from notebook>=6.4.10->great_expectations==0.17.14) (4.3.6)\n",
            "Requirement already satisfied: notebook-shim<0.3,>=0.2 in c:\\users\\patel\\appdata\\local\\programs\\python\\python312\\lib\\site-packages (from notebook>=6.4.10->great_expectations==0.17.14) (0.2.4)\n",
            "Requirement already satisfied: tornado>=6.2.0 in c:\\users\\patel\\appdata\\roaming\\python\\python312\\site-packages (from notebook>=6.4.10->great_expectations==0.17.14) (6.4.2)\n",
            "Requirement already satisfied: tzdata>=2022.1 in c:\\users\\patel\\appdata\\local\\programs\\python\\python312\\lib\\site-packages (from pandas>=1.3.0->great_expectations==0.17.14) (2024.2)\n",
            "Requirement already satisfied: six>=1.5 in c:\\users\\patel\\appdata\\local\\programs\\python\\python312\\lib\\site-packages (from python-dateutil>=2.8.1->great_expectations==0.17.14) (1.16.0)\n",
            "Requirement already satisfied: charset-normalizer<4,>=2 in c:\\users\\patel\\appdata\\local\\programs\\python\\python312\\lib\\site-packages (from requests>=2.20->great_expectations==0.17.14) (3.4.0)\n",
            "Requirement already satisfied: idna<4,>=2.5 in c:\\users\\patel\\appdata\\local\\programs\\python\\python312\\lib\\site-packages (from requests>=2.20->great_expectations==0.17.14) (3.10)\n",
            "Requirement already satisfied: certifi>=2017.4.17 in c:\\users\\patel\\appdata\\local\\programs\\python\\python312\\lib\\site-packages (from requests>=2.20->great_expectations==0.17.14) (2024.8.30)\n",
            "Requirement already satisfied: pycparser in c:\\users\\patel\\appdata\\local\\programs\\python\\python312\\lib\\site-packages (from cffi>=1.12->cryptography>=3.2->great_expectations==0.17.14) (2.22)\n",
            "Requirement already satisfied: parso<0.9.0,>=0.8.4 in c:\\users\\patel\\appdata\\roaming\\python\\python312\\site-packages (from jedi>=0.16->Ipython>=7.16.3->great_expectations==0.17.14) (0.8.4)\n",
            "Requirement already satisfied: platformdirs>=2.5 in c:\\users\\patel\\appdata\\local\\programs\\python\\python312\\lib\\site-packages (from jupyter-core!=5.0.*,>=4.12->nbformat>=5.0->great_expectations==0.17.14) (4.2.2)\n",
            "Requirement already satisfied: pywin32>=300 in c:\\users\\patel\\appdata\\roaming\\python\\python312\\site-packages (from jupyter-core!=5.0.*,>=4.12->nbformat>=5.0->great_expectations==0.17.14) (310)\n",
            "Requirement already satisfied: anyio>=3.1.0 in c:\\users\\patel\\appdata\\local\\programs\\python\\python312\\lib\\site-packages (from jupyter-server<3,>=2.4.0->notebook>=6.4.10->great_expectations==0.17.14) (4.9.0)\n",
            "Requirement already satisfied: argon2-cffi>=21.1 in c:\\users\\patel\\appdata\\local\\programs\\python\\python312\\lib\\site-packages (from jupyter-server<3,>=2.4.0->notebook>=6.4.10->great_expectations==0.17.14) (23.1.0)\n",
            "Requirement already satisfied: jupyter-client>=7.4.4 in c:\\users\\patel\\appdata\\roaming\\python\\python312\\site-packages (from jupyter-server<3,>=2.4.0->notebook>=6.4.10->great_expectations==0.17.14) (8.6.3)\n",
            "Requirement already satisfied: jupyter-events>=0.11.0 in c:\\users\\patel\\appdata\\local\\programs\\python\\python312\\lib\\site-packages (from jupyter-server<3,>=2.4.0->notebook>=6.4.10->great_expectations==0.17.14) (0.12.0)\n",
            "Requirement already satisfied: jupyter-server-terminals>=0.4.4 in c:\\users\\patel\\appdata\\local\\programs\\python\\python312\\lib\\site-packages (from jupyter-server<3,>=2.4.0->notebook>=6.4.10->great_expectations==0.17.14) (0.5.3)\n",
            "Requirement already satisfied: nbconvert>=6.4.4 in c:\\users\\patel\\appdata\\local\\programs\\python\\python312\\lib\\site-packages (from jupyter-server<3,>=2.4.0->notebook>=6.4.10->great_expectations==0.17.14) (7.16.6)\n",
            "Requirement already satisfied: overrides>=5.0 in c:\\users\\patel\\appdata\\local\\programs\\python\\python312\\lib\\site-packages (from jupyter-server<3,>=2.4.0->notebook>=6.4.10->great_expectations==0.17.14) (7.7.0)\n",
            "Requirement already satisfied: prometheus-client>=0.9 in c:\\users\\patel\\appdata\\local\\programs\\python\\python312\\lib\\site-packages (from jupyter-server<3,>=2.4.0->notebook>=6.4.10->great_expectations==0.17.14) (0.21.1)\n",
            "Requirement already satisfied: pywinpty>=2.0.1 in c:\\users\\patel\\appdata\\local\\programs\\python\\python312\\lib\\site-packages (from jupyter-server<3,>=2.4.0->notebook>=6.4.10->great_expectations==0.17.14) (2.0.15)\n",
            "Requirement already satisfied: pyzmq>=24 in c:\\users\\patel\\appdata\\roaming\\python\\python312\\site-packages (from jupyter-server<3,>=2.4.0->notebook>=6.4.10->great_expectations==0.17.14) (26.3.0)\n",
            "Requirement already satisfied: send2trash>=1.8.2 in c:\\users\\patel\\appdata\\local\\programs\\python\\python312\\lib\\site-packages (from jupyter-server<3,>=2.4.0->notebook>=6.4.10->great_expectations==0.17.14) (1.8.3)\n",
            "Requirement already satisfied: terminado>=0.8.3 in c:\\users\\patel\\appdata\\local\\programs\\python\\python312\\lib\\site-packages (from jupyter-server<3,>=2.4.0->notebook>=6.4.10->great_expectations==0.17.14) (0.18.1)\n",
            "Requirement already satisfied: websocket-client>=1.7 in c:\\users\\patel\\appdata\\local\\programs\\python\\python312\\lib\\site-packages (from jupyter-server<3,>=2.4.0->notebook>=6.4.10->great_expectations==0.17.14) (1.8.0)\n",
            "Requirement already satisfied: async-lru>=1.0.0 in c:\\users\\patel\\appdata\\local\\programs\\python\\python312\\lib\\site-packages (from jupyterlab<4.4,>=4.3.6->notebook>=6.4.10->great_expectations==0.17.14) (2.0.5)\n",
            "Requirement already satisfied: httpx>=0.25.0 in c:\\users\\patel\\appdata\\local\\programs\\python\\python312\\lib\\site-packages (from jupyterlab<4.4,>=4.3.6->notebook>=6.4.10->great_expectations==0.17.14) (0.28.1)\n",
            "Requirement already satisfied: ipykernel>=6.5.0 in c:\\users\\patel\\appdata\\roaming\\python\\python312\\site-packages (from jupyterlab<4.4,>=4.3.6->notebook>=6.4.10->great_expectations==0.17.14) (6.29.5)\n",
            "Requirement already satisfied: jupyter-lsp>=2.0.0 in c:\\users\\patel\\appdata\\local\\programs\\python\\python312\\lib\\site-packages (from jupyterlab<4.4,>=4.3.6->notebook>=6.4.10->great_expectations==0.17.14) (2.2.5)\n",
            "Requirement already satisfied: setuptools>=40.8.0 in c:\\users\\patel\\appdata\\local\\programs\\python\\python312\\lib\\site-packages (from jupyterlab<4.4,>=4.3.6->notebook>=6.4.10->great_expectations==0.17.14) (78.0.2)\n",
            "Requirement already satisfied: babel>=2.10 in c:\\users\\patel\\appdata\\local\\programs\\python\\python312\\lib\\site-packages (from jupyterlab-server<3,>=2.27.1->notebook>=6.4.10->great_expectations==0.17.14) (2.17.0)\n",
            "Requirement already satisfied: json5>=0.9.0 in c:\\users\\patel\\appdata\\local\\programs\\python\\python312\\lib\\site-packages (from jupyterlab-server<3,>=2.27.1->notebook>=6.4.10->great_expectations==0.17.14) (0.10.0)\n",
            "Requirement already satisfied: wcwidth in c:\\users\\patel\\appdata\\roaming\\python\\python312\\site-packages (from prompt_toolkit<3.1.0,>=3.0.41->Ipython>=7.16.3->great_expectations==0.17.14) (0.2.13)\n",
            "Requirement already satisfied: executing>=1.2.0 in c:\\users\\patel\\appdata\\roaming\\python\\python312\\site-packages (from stack_data->Ipython>=7.16.3->great_expectations==0.17.14) (2.2.0)\n",
            "Requirement already satisfied: asttokens>=2.1.0 in c:\\users\\patel\\appdata\\roaming\\python\\python312\\site-packages (from stack_data->Ipython>=7.16.3->great_expectations==0.17.14) (3.0.0)\n",
            "Requirement already satisfied: pure-eval in c:\\users\\patel\\appdata\\roaming\\python\\python312\\site-packages (from stack_data->Ipython>=7.16.3->great_expectations==0.17.14) (0.2.3)\n",
            "Requirement already satisfied: sniffio>=1.1 in c:\\users\\patel\\appdata\\local\\programs\\python\\python312\\lib\\site-packages (from anyio>=3.1.0->jupyter-server<3,>=2.4.0->notebook>=6.4.10->great_expectations==0.17.14) (1.3.1)\n",
            "Requirement already satisfied: argon2-cffi-bindings in c:\\users\\patel\\appdata\\local\\programs\\python\\python312\\lib\\site-packages (from argon2-cffi>=21.1->jupyter-server<3,>=2.4.0->notebook>=6.4.10->great_expectations==0.17.14) (21.2.0)\n",
            "Requirement already satisfied: httpcore==1.* in c:\\users\\patel\\appdata\\local\\programs\\python\\python312\\lib\\site-packages (from httpx>=0.25.0->jupyterlab<4.4,>=4.3.6->notebook>=6.4.10->great_expectations==0.17.14) (1.0.7)\n",
            "Requirement already satisfied: h11<0.15,>=0.13 in c:\\users\\patel\\appdata\\local\\programs\\python\\python312\\lib\\site-packages (from httpcore==1.*->httpx>=0.25.0->jupyterlab<4.4,>=4.3.6->notebook>=6.4.10->great_expectations==0.17.14) (0.14.0)\n",
            "Requirement already satisfied: debugpy>=1.6.5 in c:\\users\\patel\\appdata\\roaming\\python\\python312\\site-packages (from ipykernel>=6.5.0->jupyterlab<4.4,>=4.3.6->notebook>=6.4.10->great_expectations==0.17.14) (1.8.13)\n",
            "Requirement already satisfied: nest-asyncio in c:\\users\\patel\\appdata\\roaming\\python\\python312\\site-packages (from ipykernel>=6.5.0->jupyterlab<4.4,>=4.3.6->notebook>=6.4.10->great_expectations==0.17.14) (1.6.0)\n",
            "Requirement already satisfied: psutil in c:\\users\\patel\\appdata\\roaming\\python\\python312\\site-packages (from ipykernel>=6.5.0->jupyterlab<4.4,>=4.3.6->notebook>=6.4.10->great_expectations==0.17.14) (7.0.0)\n",
            "Requirement already satisfied: python-json-logger>=2.0.4 in c:\\users\\patel\\appdata\\local\\programs\\python\\python312\\lib\\site-packages (from jupyter-events>=0.11.0->jupyter-server<3,>=2.4.0->notebook>=6.4.10->great_expectations==0.17.14) (3.3.0)\n",
            "Requirement already satisfied: pyyaml>=5.3 in c:\\users\\patel\\appdata\\local\\programs\\python\\python312\\lib\\site-packages (from jupyter-events>=0.11.0->jupyter-server<3,>=2.4.0->notebook>=6.4.10->great_expectations==0.17.14) (6.0.2)\n",
            "Requirement already satisfied: rfc3339-validator in c:\\users\\patel\\appdata\\local\\programs\\python\\python312\\lib\\site-packages (from jupyter-events>=0.11.0->jupyter-server<3,>=2.4.0->notebook>=6.4.10->great_expectations==0.17.14) (0.1.4)\n",
            "Requirement already satisfied: rfc3986-validator>=0.1.1 in c:\\users\\patel\\appdata\\local\\programs\\python\\python312\\lib\\site-packages (from jupyter-events>=0.11.0->jupyter-server<3,>=2.4.0->notebook>=6.4.10->great_expectations==0.17.14) (0.1.1)\n",
            "Requirement already satisfied: beautifulsoup4 in c:\\users\\patel\\appdata\\local\\programs\\python\\python312\\lib\\site-packages (from nbconvert>=6.4.4->jupyter-server<3,>=2.4.0->notebook>=6.4.10->great_expectations==0.17.14) (4.13.3)\n",
            "Requirement already satisfied: bleach!=5.0.0 in c:\\users\\patel\\appdata\\local\\programs\\python\\python312\\lib\\site-packages (from bleach[css]!=5.0.0->nbconvert>=6.4.4->jupyter-server<3,>=2.4.0->notebook>=6.4.10->great_expectations==0.17.14) (6.2.0)\n",
            "Requirement already satisfied: defusedxml in c:\\users\\patel\\appdata\\local\\programs\\python\\python312\\lib\\site-packages (from nbconvert>=6.4.4->jupyter-server<3,>=2.4.0->notebook>=6.4.10->great_expectations==0.17.14) (0.7.1)\n",
            "Requirement already satisfied: jupyterlab-pygments in c:\\users\\patel\\appdata\\local\\programs\\python\\python312\\lib\\site-packages (from nbconvert>=6.4.4->jupyter-server<3,>=2.4.0->notebook>=6.4.10->great_expectations==0.17.14) (0.3.0)\n",
            "Requirement already satisfied: nbclient>=0.5.0 in c:\\users\\patel\\appdata\\local\\programs\\python\\python312\\lib\\site-packages (from nbconvert>=6.4.4->jupyter-server<3,>=2.4.0->notebook>=6.4.10->great_expectations==0.17.14) (0.10.2)\n",
            "Requirement already satisfied: pandocfilters>=1.4.1 in c:\\users\\patel\\appdata\\local\\programs\\python\\python312\\lib\\site-packages (from nbconvert>=6.4.4->jupyter-server<3,>=2.4.0->notebook>=6.4.10->great_expectations==0.17.14) (1.5.1)\n",
            "Requirement already satisfied: webencodings in c:\\users\\patel\\appdata\\local\\programs\\python\\python312\\lib\\site-packages (from bleach!=5.0.0->bleach[css]!=5.0.0->nbconvert>=6.4.4->jupyter-server<3,>=2.4.0->notebook>=6.4.10->great_expectations==0.17.14) (0.5.1)\n",
            "Requirement already satisfied: tinycss2<1.5,>=1.1.0 in c:\\users\\patel\\appdata\\local\\programs\\python\\python312\\lib\\site-packages (from bleach[css]!=5.0.0->nbconvert>=6.4.4->jupyter-server<3,>=2.4.0->notebook>=6.4.10->great_expectations==0.17.14) (1.4.0)\n",
            "Requirement already satisfied: fqdn in c:\\users\\patel\\appdata\\local\\programs\\python\\python312\\lib\\site-packages (from jsonschema[format-nongpl]>=4.18.0->jupyter-events>=0.11.0->jupyter-server<3,>=2.4.0->notebook>=6.4.10->great_expectations==0.17.14) (1.5.1)\n",
            "Requirement already satisfied: isoduration in c:\\users\\patel\\appdata\\local\\programs\\python\\python312\\lib\\site-packages (from jsonschema[format-nongpl]>=4.18.0->jupyter-events>=0.11.0->jupyter-server<3,>=2.4.0->notebook>=6.4.10->great_expectations==0.17.14) (20.11.0)\n",
            "Requirement already satisfied: uri-template in c:\\users\\patel\\appdata\\local\\programs\\python\\python312\\lib\\site-packages (from jsonschema[format-nongpl]>=4.18.0->jupyter-events>=0.11.0->jupyter-server<3,>=2.4.0->notebook>=6.4.10->great_expectations==0.17.14) (1.3.0)\n",
            "Requirement already satisfied: webcolors>=24.6.0 in c:\\users\\patel\\appdata\\local\\programs\\python\\python312\\lib\\site-packages (from jsonschema[format-nongpl]>=4.18.0->jupyter-events>=0.11.0->jupyter-server<3,>=2.4.0->notebook>=6.4.10->great_expectations==0.17.14) (24.11.1)\n",
            "Requirement already satisfied: soupsieve>1.2 in c:\\users\\patel\\appdata\\local\\programs\\python\\python312\\lib\\site-packages (from beautifulsoup4->nbconvert>=6.4.4->jupyter-server<3,>=2.4.0->notebook>=6.4.10->great_expectations==0.17.14) (2.6)\n",
            "Requirement already satisfied: arrow>=0.15.0 in c:\\users\\patel\\appdata\\local\\programs\\python\\python312\\lib\\site-packages (from isoduration->jsonschema[format-nongpl]>=4.18.0->jupyter-events>=0.11.0->jupyter-server<3,>=2.4.0->notebook>=6.4.10->great_expectations==0.17.14) (1.3.0)\n",
            "Requirement already satisfied: types-python-dateutil>=2.8.10 in c:\\users\\patel\\appdata\\local\\programs\\python\\python312\\lib\\site-packages (from arrow>=0.15.0->isoduration->jsonschema[format-nongpl]>=4.18.0->jupyter-events>=0.11.0->jupyter-server<3,>=2.4.0->notebook>=6.4.10->great_expectations==0.17.14) (2.9.0.20241206)\n",
            "Using cached great_expectations-0.17.14-py3-none-any.whl (5.4 MB)\n",
            "Installing collected packages: great_expectations\n",
            "  Attempting uninstall: great_expectations\n",
            "    Found existing installation: great-expectations 1.3.11\n",
            "    Uninstalling great-expectations-1.3.11:\n",
            "      Successfully uninstalled great-expectations-1.3.11\n",
            "Successfully installed great_expectations-0.17.14\n",
            "Note: you may need to restart the kernel to use updated packages.\n"
          ]
        },
        {
          "name": "stderr",
          "output_type": "stream",
          "text": [
            "\n",
            "[notice] A new release of pip is available: 24.2 -> 25.0.1\n",
            "[notice] To update, run: python.exe -m pip install --upgrade pip\n"
          ]
        }
      ],
      "source": [
        "%pip install great_expectations==0.17.14\n"
      ]
    },
    {
      "cell_type": "markdown",
      "metadata": {
        "id": "fWSO9h40JZjg"
      },
      "source": [
        "##2. Import Necessary Libraries"
      ]
    },
    {
      "cell_type": "code",
      "execution_count": 2,
      "metadata": {
        "collapsed": true,
        "id": "77qWdq8yVVEl"
      },
      "outputs": [],
      "source": [
        "import pandas as pd\n",
        "import great_expectations as gx"
      ]
    },
    {
      "cell_type": "markdown",
      "metadata": {
        "id": "Fdt5KucDJu-h"
      },
      "source": [
        "##3. Load Labels.csv"
      ]
    },
    {
      "cell_type": "markdown",
      "metadata": {
        "id": "pP3MW4uUhwAR"
      },
      "source": [
        "Download and upload the [Labels.csv](https://github.com/zubxxr/SOFE3980U-Lab5/blob/main/Labels.csv) into this notebook, and then load the file."
      ]
    },
    {
      "cell_type": "code",
      "execution_count": 3,
      "metadata": {
        "id": "ogHUyzFKdS5z"
      },
      "outputs": [],
      "source": [
        "df = pd.read_csv('Labels.csv')"
      ]
    },
    {
      "cell_type": "markdown",
      "metadata": {
        "id": "2BCIXXwdJyS7"
      },
      "source": [
        "##4. Preview the Dataset"
      ]
    },
    {
      "cell_type": "code",
      "execution_count": 4,
      "metadata": {
        "id": "OXpbbmRsVj0k"
      },
      "outputs": [
        {
          "data": {
            "text/html": [
              "<div>\n",
              "<style scoped>\n",
              "    .dataframe tbody tr th:only-of-type {\n",
              "        vertical-align: middle;\n",
              "    }\n",
              "\n",
              "    .dataframe tbody tr th {\n",
              "        vertical-align: top;\n",
              "    }\n",
              "\n",
              "    .dataframe thead th {\n",
              "        text-align: right;\n",
              "    }\n",
              "</style>\n",
              "<table border=\"1\" class=\"dataframe\">\n",
              "  <thead>\n",
              "    <tr style=\"text-align: right;\">\n",
              "      <th></th>\n",
              "      <th>Timestamp</th>\n",
              "      <th>Car1_Location_X</th>\n",
              "      <th>Car1_Location_Y</th>\n",
              "      <th>Car1_Location_Z</th>\n",
              "      <th>Car2_Location_X</th>\n",
              "      <th>Car2_Location_Y</th>\n",
              "      <th>Car2_Location_Z</th>\n",
              "      <th>Occluded_Image_view</th>\n",
              "      <th>Occluding_Car_view</th>\n",
              "      <th>Ground_Truth_View</th>\n",
              "      <th>pedestrianLocationX_TopLeft</th>\n",
              "      <th>pedestrianLocationY_TopLeft</th>\n",
              "      <th>pedestrianLocationX_BottomRight</th>\n",
              "      <th>pedestrianLocationY_BottomRight</th>\n",
              "    </tr>\n",
              "  </thead>\n",
              "  <tbody>\n",
              "    <tr>\n",
              "      <th>0</th>\n",
              "      <td>1736796157</td>\n",
              "      <td>-51.402977</td>\n",
              "      <td>143</td>\n",
              "      <td>0.596902</td>\n",
              "      <td>-59.320270</td>\n",
              "      <td>140</td>\n",
              "      <td>0.596902</td>\n",
              "      <td>A_001.png</td>\n",
              "      <td>B_001.png</td>\n",
              "      <td>C_001.png</td>\n",
              "      <td>593</td>\n",
              "      <td>361</td>\n",
              "      <td>610</td>\n",
              "      <td>410</td>\n",
              "    </tr>\n",
              "    <tr>\n",
              "      <th>1</th>\n",
              "      <td>1736796167</td>\n",
              "      <td>-53.819637</td>\n",
              "      <td>143</td>\n",
              "      <td>0.596902</td>\n",
              "      <td>-59.196568</td>\n",
              "      <td>140</td>\n",
              "      <td>0.596902</td>\n",
              "      <td>A_002.png</td>\n",
              "      <td>B_002.png</td>\n",
              "      <td>C_002.png</td>\n",
              "      <td>579</td>\n",
              "      <td>368</td>\n",
              "      <td>594</td>\n",
              "      <td>415</td>\n",
              "    </tr>\n",
              "    <tr>\n",
              "      <th>2</th>\n",
              "      <td>1736796178</td>\n",
              "      <td>-50.239144</td>\n",
              "      <td>143</td>\n",
              "      <td>0.596902</td>\n",
              "      <td>-56.744479</td>\n",
              "      <td>140</td>\n",
              "      <td>0.596902</td>\n",
              "      <td>A_003.png</td>\n",
              "      <td>B_003.png</td>\n",
              "      <td>C_003.png</td>\n",
              "      <td>854</td>\n",
              "      <td>720</td>\n",
              "      <td>854</td>\n",
              "      <td>720</td>\n",
              "    </tr>\n",
              "    <tr>\n",
              "      <th>3</th>\n",
              "      <td>1736796188</td>\n",
              "      <td>-53.707220</td>\n",
              "      <td>143</td>\n",
              "      <td>0.596902</td>\n",
              "      <td>-57.309380</td>\n",
              "      <td>140</td>\n",
              "      <td>0.596902</td>\n",
              "      <td>A_004.png</td>\n",
              "      <td>B_004.png</td>\n",
              "      <td>C_004.png</td>\n",
              "      <td>549</td>\n",
              "      <td>368</td>\n",
              "      <td>567</td>\n",
              "      <td>425</td>\n",
              "    </tr>\n",
              "    <tr>\n",
              "      <th>4</th>\n",
              "      <td>1736796198</td>\n",
              "      <td>-52.053721</td>\n",
              "      <td>143</td>\n",
              "      <td>0.596902</td>\n",
              "      <td>-59.545897</td>\n",
              "      <td>140</td>\n",
              "      <td>0.596902</td>\n",
              "      <td>A_005.png</td>\n",
              "      <td>B_005.png</td>\n",
              "      <td>C_005.png</td>\n",
              "      <td>524</td>\n",
              "      <td>368</td>\n",
              "      <td>537</td>\n",
              "      <td>413</td>\n",
              "    </tr>\n",
              "  </tbody>\n",
              "</table>\n",
              "</div>"
            ],
            "text/plain": [
              "    Timestamp  Car1_Location_X  Car1_Location_Y  Car1_Location_Z  \\\n",
              "0  1736796157       -51.402977              143         0.596902   \n",
              "1  1736796167       -53.819637              143         0.596902   \n",
              "2  1736796178       -50.239144              143         0.596902   \n",
              "3  1736796188       -53.707220              143         0.596902   \n",
              "4  1736796198       -52.053721              143         0.596902   \n",
              "\n",
              "   Car2_Location_X  Car2_Location_Y  Car2_Location_Z Occluded_Image_view  \\\n",
              "0       -59.320270              140         0.596902           A_001.png   \n",
              "1       -59.196568              140         0.596902           A_002.png   \n",
              "2       -56.744479              140         0.596902           A_003.png   \n",
              "3       -57.309380              140         0.596902           A_004.png   \n",
              "4       -59.545897              140         0.596902           A_005.png   \n",
              "\n",
              "  Occluding_Car_view Ground_Truth_View  pedestrianLocationX_TopLeft  \\\n",
              "0          B_001.png         C_001.png                          593   \n",
              "1          B_002.png         C_002.png                          579   \n",
              "2          B_003.png         C_003.png                          854   \n",
              "3          B_004.png         C_004.png                          549   \n",
              "4          B_005.png         C_005.png                          524   \n",
              "\n",
              "   pedestrianLocationY_TopLeft  pedestrianLocationX_BottomRight  \\\n",
              "0                          361                              610   \n",
              "1                          368                              594   \n",
              "2                          720                              854   \n",
              "3                          368                              567   \n",
              "4                          368                              537   \n",
              "\n",
              "   pedestrianLocationY_BottomRight  \n",
              "0                              410  \n",
              "1                              415  \n",
              "2                              720  \n",
              "3                              425  \n",
              "4                              413  "
            ]
          },
          "execution_count": 4,
          "metadata": {},
          "output_type": "execute_result"
        }
      ],
      "source": [
        "df.head()"
      ]
    },
    {
      "cell_type": "markdown",
      "metadata": {
        "id": "WwljyFlFJ1A8"
      },
      "source": [
        "##5. Set Up Great Expectations Context and Data Source"
      ]
    },
    {
      "cell_type": "code",
      "execution_count": 5,
      "metadata": {
        "id": "SxSmTGmZVk5U"
      },
      "outputs": [],
      "source": [
        "# Step 5: Create context and add datasource\n",
        "context = gx.get_context()\n",
        "\n",
        "# ✅ CORRECT way to add a Pandas datasource in latest GE\n",
        "datasource = context.sources.add_pandas(name=\"my_pandas_datasource\")"
      ]
    },
    {
      "cell_type": "markdown",
      "metadata": {
        "id": "IHl4W07zJ5-A"
      },
      "source": [
        "##6. Define and Create a Data Batch"
      ]
    },
    {
      "cell_type": "code",
      "execution_count": 10,
      "metadata": {
        "id": "dTdpe1tVhpgp"
      },
      "outputs": [],
      "source": [
        "# Step 6: Define and Create a Data Batch\n",
        "asset = datasource.add_dataframe_asset(name=\"labels_asset_v2\")\n",
        "batch_request = asset.build_batch_request(dataframe=df)\n",
        "\n",
        "# Get validator\n",
        "validator = context.get_validator(batch_request=batch_request)\n"
      ]
    },
    {
      "cell_type": "markdown",
      "metadata": {
        "id": "JhVlKGYXJ8Tf"
      },
      "source": [
        "##7. Define Three Expectations for Column Values"
      ]
    },
    {
      "cell_type": "markdown",
      "metadata": {
        "id": "8ixvqF3OYnlt"
      },
      "source": [
        "Using this [link](https://greatexpectations.io/expectations/), choose three expectation functions and apply them to the labels dataset in a relevant manner.\n",
        "\n",
        "You should replace the 'ExpectColumnValuesToBeBetween' function with other functions you select from the link.\n",
        "\n",
        "You can also check the format/parameters required of each function when you click \"See more\" on the function."
      ]
    },
    {
      "cell_type": "code",
      "execution_count": 11,
      "metadata": {
        "id": "O2JMz9pScU6n"
      },
      "outputs": [
        {
          "data": {
            "application/vnd.jupyter.widget-view+json": {
              "model_id": "43a4c17bdbe04a37a759e5751560c675",
              "version_major": 2,
              "version_minor": 0
            },
            "text/plain": [
              "Calculating Metrics:   0%|          | 0/8 [00:00<?, ?it/s]"
            ]
          },
          "metadata": {},
          "output_type": "display_data"
        },
        {
          "data": {
            "application/vnd.jupyter.widget-view+json": {
              "model_id": "f00767febeff44fea4b0a74b7d1a816f",
              "version_major": 2,
              "version_minor": 0
            },
            "text/plain": [
              "Calculating Metrics:   0%|          | 0/8 [00:00<?, ?it/s]"
            ]
          },
          "metadata": {},
          "output_type": "display_data"
        },
        {
          "data": {
            "application/vnd.jupyter.widget-view+json": {
              "model_id": "7d4bf0800c82487b95b6c8ffbf3627cb",
              "version_major": 2,
              "version_minor": 0
            },
            "text/plain": [
              "Calculating Metrics:   0%|          | 0/8 [00:00<?, ?it/s]"
            ]
          },
          "metadata": {},
          "output_type": "display_data"
        }
      ],
      "source": [
        "## Original Function\n",
        "expectation_1 = validator.expect_column_values_to_be_between(\n",
        "    column=\"Car1_Location_X\",\n",
        "    min_value=0,\n",
        "    max_value=500\n",
        ")\n",
        "\n",
        "expectation_2 = validator.expect_column_values_to_match_regex(\n",
        "    column=\"Ground_Truth_View\",\n",
        "    regex=r\".*\\.png\"\n",
        ")\n",
        "\n",
        "## This function only requires a column parameter, and not a max or min value\n",
        "expectation_3 = validator.expect_column_values_to_be_unique(\n",
        "    column=\"Timestamp\"\n",
        ")"
      ]
    },
    {
      "cell_type": "markdown",
      "metadata": {
        "id": "gaIvn5Y-Mazw"
      },
      "source": [
        "### Expectation 1"
      ]
    },
    {
      "cell_type": "code",
      "execution_count": 12,
      "metadata": {
        "id": "PJw-qrNyhsIX"
      },
      "outputs": [
        {
          "data": {
            "application/vnd.jupyter.widget-view+json": {
              "model_id": "ebfb8c5e321d471792b04b7f029900f8",
              "version_major": 2,
              "version_minor": 0
            },
            "text/plain": [
              "Calculating Metrics:   0%|          | 0/8 [00:00<?, ?it/s]"
            ]
          },
          "metadata": {},
          "output_type": "display_data"
        }
      ],
      "source": [
        "expectation_1 = validator.expect_column_values_to_be_between(\n",
        "    column=\"Car1_Location_X\",\n",
        "    min_value=0,\n",
        "    max_value=500\n",
        ")"
      ]
    },
    {
      "cell_type": "markdown",
      "metadata": {
        "id": "iaWGD8GL8jSA"
      },
      "source": [
        "### Validate Data Against Expectation 1"
      ]
    },
    {
      "cell_type": "code",
      "execution_count": 13,
      "metadata": {
        "id": "zE_iE0yr8k9y"
      },
      "outputs": [
        {
          "data": {
            "text/plain": [
              "{\n",
              "  \"success\": false,\n",
              "  \"result\": {\n",
              "    \"element_count\": 121,\n",
              "    \"unexpected_count\": 121,\n",
              "    \"unexpected_percent\": 100.0,\n",
              "    \"partial_unexpected_list\": [\n",
              "      -51.40297655,\n",
              "      -53.81963722,\n",
              "      -50.23914439,\n",
              "      -53.70722021,\n",
              "      -52.05372109,\n",
              "      -53.93975603,\n",
              "      -50.30258412,\n",
              "      -53.17447194,\n",
              "      -52.72667437,\n",
              "      -50.18179353,\n",
              "      -52.40699613,\n",
              "      -52.38122971,\n",
              "      -53.01906414,\n",
              "      -50.85034015,\n",
              "      -51.93070037,\n",
              "      -50.75051989,\n",
              "      -50.63015195,\n",
              "      -50.69818291,\n",
              "      -51.95966168,\n",
              "      -50.88663347\n",
              "    ],\n",
              "    \"missing_count\": 0,\n",
              "    \"missing_percent\": 0.0,\n",
              "    \"unexpected_percent_total\": 100.0,\n",
              "    \"unexpected_percent_nonmissing\": 100.0\n",
              "  },\n",
              "  \"meta\": {},\n",
              "  \"exception_info\": {\n",
              "    \"raised_exception\": false,\n",
              "    \"exception_traceback\": null,\n",
              "    \"exception_message\": null\n",
              "  }\n",
              "}"
            ]
          },
          "execution_count": 13,
          "metadata": {},
          "output_type": "execute_result"
        }
      ],
      "source": [
        "expectation_1"
      ]
    },
    {
      "cell_type": "markdown",
      "metadata": {
        "id": "37TjcPpxYiMZ"
      },
      "source": [
        "### Expectation 2"
      ]
    },
    {
      "cell_type": "code",
      "execution_count": 14,
      "metadata": {
        "id": "duJPbIxoYfNc"
      },
      "outputs": [
        {
          "data": {
            "application/vnd.jupyter.widget-view+json": {
              "model_id": "d8eaf8f163e14e129a4dce1be45cbdc1",
              "version_major": 2,
              "version_minor": 0
            },
            "text/plain": [
              "Calculating Metrics:   0%|          | 0/8 [00:00<?, ?it/s]"
            ]
          },
          "metadata": {},
          "output_type": "display_data"
        }
      ],
      "source": [
        "expectation_2 = validator.expect_column_values_to_match_regex(\n",
        "    column=\"Ground_Truth_View\",\n",
        "    regex=r\".*\\.png\"\n",
        ")"
      ]
    },
    {
      "cell_type": "markdown",
      "metadata": {
        "id": "rCO1JE2O8lcf"
      },
      "source": [
        "### Validate Data Against Expectation 2"
      ]
    },
    {
      "cell_type": "code",
      "execution_count": 15,
      "metadata": {
        "id": "0HbLTxQJ8rXp"
      },
      "outputs": [
        {
          "data": {
            "text/plain": [
              "{\n",
              "  \"success\": true,\n",
              "  \"result\": {\n",
              "    \"element_count\": 121,\n",
              "    \"unexpected_count\": 0,\n",
              "    \"unexpected_percent\": 0.0,\n",
              "    \"partial_unexpected_list\": [],\n",
              "    \"missing_count\": 0,\n",
              "    \"missing_percent\": 0.0,\n",
              "    \"unexpected_percent_total\": 0.0,\n",
              "    \"unexpected_percent_nonmissing\": 0.0\n",
              "  },\n",
              "  \"meta\": {},\n",
              "  \"exception_info\": {\n",
              "    \"raised_exception\": false,\n",
              "    \"exception_traceback\": null,\n",
              "    \"exception_message\": null\n",
              "  }\n",
              "}"
            ]
          },
          "execution_count": 15,
          "metadata": {},
          "output_type": "execute_result"
        }
      ],
      "source": [
        "expectation_2"
      ]
    },
    {
      "cell_type": "markdown",
      "metadata": {
        "id": "JEJ28eyoYfra"
      },
      "source": [
        "### Expectation 3"
      ]
    },
    {
      "cell_type": "code",
      "execution_count": 16,
      "metadata": {
        "id": "tWFlN_hqYfkC"
      },
      "outputs": [
        {
          "data": {
            "application/vnd.jupyter.widget-view+json": {
              "model_id": "55e8150848e64a978b34e2cc7d569998",
              "version_major": 2,
              "version_minor": 0
            },
            "text/plain": [
              "Calculating Metrics:   0%|          | 0/8 [00:00<?, ?it/s]"
            ]
          },
          "metadata": {},
          "output_type": "display_data"
        }
      ],
      "source": [
        "expectation_3 = validator.expect_column_values_to_be_unique(\n",
        "    column=\"Timestamp\"\n",
        ")"
      ]
    },
    {
      "cell_type": "markdown",
      "metadata": {
        "id": "D9rzavkK8mqM"
      },
      "source": [
        "### Validate Data Against Expectation 3"
      ]
    },
    {
      "cell_type": "code",
      "execution_count": 17,
      "metadata": {
        "id": "xGed5qns8om2"
      },
      "outputs": [
        {
          "data": {
            "text/plain": [
              "{\n",
              "  \"success\": true,\n",
              "  \"result\": {\n",
              "    \"element_count\": 121,\n",
              "    \"unexpected_count\": 0,\n",
              "    \"unexpected_percent\": 0.0,\n",
              "    \"partial_unexpected_list\": [],\n",
              "    \"missing_count\": 0,\n",
              "    \"missing_percent\": 0.0,\n",
              "    \"unexpected_percent_total\": 0.0,\n",
              "    \"unexpected_percent_nonmissing\": 0.0\n",
              "  },\n",
              "  \"meta\": {},\n",
              "  \"exception_info\": {\n",
              "    \"raised_exception\": false,\n",
              "    \"exception_traceback\": null,\n",
              "    \"exception_message\": null\n",
              "  }\n",
              "}"
            ]
          },
          "execution_count": 17,
          "metadata": {},
          "output_type": "execute_result"
        }
      ],
      "source": [
        "expectation_3"
      ]
    }
  ],
  "metadata": {
    "colab": {
      "provenance": []
    },
    "kernelspec": {
      "display_name": "Python 3",
      "name": "python3"
    },
    "language_info": {
      "codemirror_mode": {
        "name": "ipython",
        "version": 3
      },
      "file_extension": ".py",
      "mimetype": "text/x-python",
      "name": "python",
      "nbconvert_exporter": "python",
      "pygments_lexer": "ipython3",
      "version": "3.12.5"
    }
  },
  "nbformat": 4,
  "nbformat_minor": 0
}
